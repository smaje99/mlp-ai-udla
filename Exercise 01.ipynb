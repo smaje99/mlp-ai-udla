{
 "cells": [
  {
   "cell_type": "code",
   "execution_count": 1,
   "id": "a117ea32",
   "metadata": {},
   "outputs": [],
   "source": [
    "%matplotlib inline\n",
    "\n",
    "import numpy as np\n",
    "import matplotlib.pyplot as plt"
   ]
  },
  {
   "cell_type": "code",
   "execution_count": 2,
   "id": "ab90476d",
   "metadata": {},
   "outputs": [],
   "source": [
    "class Layers:\n",
    "    def __init__(self):\n",
    "        self.params = []  # Parametros\n",
    "        self.grads = []  # Gradiantes\n",
    "        \n",
    "    def __call__(self, x):\n",
    "        return x\n",
    "    \n",
    "    def backward(self, grad):\n",
    "        return grad\n",
    "    \n",
    "    def update(self, params):\n",
    "        '''Si hay parámetros, los actualizaremos con\n",
    "        el resultado que indique el optimizer'''\n",
    "        return"
   ]
  },
  {
   "cell_type": "code",
   "execution_count": 3,
   "id": "efd57c08",
   "metadata": {},
   "outputs": [],
   "source": [
    "class Tanh(Activation):\n",
    "    def activation(self, x):\n",
    "        return np.tanh(x)\n",
    "    \n",
    "    def prime(self, x):\n",
    "        return 1 - np.tanh(x) ** 2 "
   ]
  },
  {
   "cell_type": "code",
   "execution_count": 4,
   "id": "bb820024",
   "metadata": {},
   "outputs": [],
   "source": [
    "class Sigmoide(Activation):\n",
    "    def activation(self, x):\n",
    "        return 1 / (1 + np.exp(-x))\n",
    "    \n",
    "    def prime(self, x):\n",
    "        sigmoide = self.activation(x)\n",
    "        return sigmoide * (1 - sigmoide)"
   ]
  },
  {
   "cell_type": "code",
   "execution_count": 5,
   "id": "242aaa83",
   "metadata": {},
   "outputs": [],
   "source": [
    "class ReLu(Activation):\n",
    "    def activation(self, x):\n",
    "        return np.maximum(0, x)\n",
    "    \n",
    "    def prime(self, x):\n",
    "        return x > 0"
   ]
  },
  {
   "cell_type": "code",
   "execution_count": null,
   "id": "7c5f198b",
   "metadata": {},
   "outputs": [],
   "source": [
    "class MLP:\n",
    "    def __init__(self, layers):\n",
    "        self.layers = layers\n",
    "    \n",
    "    def __call__(self, x):\n",
    "        '''Calculamos la salida del modelo aplicando\n",
    "        cada capa de manera secuencial\n",
    "        '''\n",
    "        for layer in self.layers:\n",
    "            x = layers(x)\n",
    "        return x"
   ]
  }
 ],
 "metadata": {
  "kernelspec": {
   "display_name": "MLP",
   "language": "python",
   "name": "mlp"
  },
  "language_info": {
   "codemirror_mode": {
    "name": "ipython",
    "version": 3
   },
   "file_extension": ".py",
   "mimetype": "text/x-python",
   "name": "python",
   "nbconvert_exporter": "python",
   "pygments_lexer": "ipython3",
   "version": "3.9.6"
  }
 },
 "nbformat": 4,
 "nbformat_minor": 5
}
