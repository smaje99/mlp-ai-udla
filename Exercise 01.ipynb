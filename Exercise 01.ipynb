{
 "cells": [
  {
   "cell_type": "code",
   "execution_count": 1,
   "id": "a117ea32",
   "metadata": {},
   "outputs": [],
   "source": [
    "%matplotlib inline\n",
    "\n",
    "import numpy as np\n",
    "import matplotlib.pyplot as plt"
   ]
  },
  {
   "cell_type": "markdown",
   "id": "40f4bacb",
   "metadata": {},
   "source": [
    "# Perceptrón Multi Capa"
   ]
  },
  {
   "cell_type": "markdown",
   "id": "9bb92c4f",
   "metadata": {},
   "source": [
    "## Capas"
   ]
  },
  {
   "cell_type": "code",
   "execution_count": 2,
   "id": "ab90476d",
   "metadata": {},
   "outputs": [],
   "source": [
    "class Layer:\n",
    "    def __init__(self):\n",
    "        self.params = []  # Parametros\n",
    "        self.grads = []  # Gradiantes\n",
    "        \n",
    "    def __call__(self, x):\n",
    "        return x\n",
    "    \n",
    "    def backward(self, grad):\n",
    "        return grad\n",
    "    \n",
    "    def update(self, params):\n",
    "        '''Si hay parámetros, los actualizaremos con\n",
    "        el resultado que indique el optimizer'''\n",
    "        return"
   ]
  },
  {
   "cell_type": "code",
   "execution_count": 3,
   "id": "849b335b",
   "metadata": {},
   "outputs": [],
   "source": [
    "class Linear(Layer):\n",
    "    def __init__(self, dim_in, dim_out):\n",
    "        self.weigths = np.random.normal(loc=0.0,\n",
    "                                       scale=np.sqrt(2 / (dim_in + dim_out)),\n",
    "                                       size=(dim_in, dim_out))\n",
    "        self.bias = np.zeros(dim_out)\n",
    "        \n",
    "    def __call__(self, x):\n",
    "        self.x = x\n",
    "        self.params = [self.weights, self.bias]\n",
    "        return np.dot(x, self.weigths) + self.bias  # Salida del perceptrón\n",
    "    \n",
    "    def backward(self, grad_output):\n",
    "        # gradiantes para la capa siguiente\n",
    "        grad = np.dot(grad_output, self.weigths.T)\n",
    "        self.grad_weigths = np.dot(self.x.T, grad_output)\n",
    "        \n",
    "        # gradiantes para actualizar pesos\n",
    "        self.grad_bias = grad_output.mean(axis=0) * self.x.shape[0]\n",
    "        self.grads = [self.grad_weigths, self.grad_bias]\n",
    "        return grad\n",
    "    \n",
    "    def update(self, params):\n",
    "        self.weigths, self.bias = params"
   ]
  },
  {
   "cell_type": "code",
   "execution_count": 4,
   "id": "64024587",
   "metadata": {},
   "outputs": [],
   "source": [
    "class ReLU(Layer):\n",
    "    def __call__(self, x):\n",
    "        self.x = x\n",
    "        return np.maximum(0, x)\n",
    "    \n",
    "    def backward(self, grad_output):\n",
    "        grad = self.x > 0\n",
    "        return grad_output * grad"
   ]
  },
  {
   "cell_type": "code",
   "execution_count": 5,
   "id": "ee5a6e21",
   "metadata": {},
   "outputs": [],
   "source": [
    "class Sigmoid(Layer):\n",
    "    def __activation(x):\n",
    "        return 1 / (1 + np.exp(-x))\n",
    "    \n",
    "    def __call__(self, x):\n",
    "        self.x = x\n",
    "        return self.__activation(x)\n",
    "    \n",
    "    def backward(self, grad_output):\n",
    "        sigmoid = self._activation(self.x)\n",
    "        grad = sigmoid * (1 - sigmoid)\n",
    "        return grad_output * grad"
   ]
  },
  {
   "cell_type": "code",
   "execution_count": 11,
   "id": "f31e68ce",
   "metadata": {},
   "outputs": [],
   "source": [
    "def softmax(x):\n",
    "    return np.exp(x) / np.exp(x).sum(axis=-1, keepdims=True)"
   ]
  },
  {
   "cell_type": "markdown",
   "id": "57b42459",
   "metadata": {},
   "source": [
    "## Percetrón"
   ]
  },
  {
   "cell_type": "code",
   "execution_count": 6,
   "id": "7c5f198b",
   "metadata": {},
   "outputs": [],
   "source": [
    "class MLP:\n",
    "    def __init__(self, layers):\n",
    "        self.layers = layers\n",
    "    \n",
    "    def __call__(self, x):\n",
    "        '''Calculamos la salida del modelo aplicando\n",
    "        cada capa de manera secuencial\n",
    "        '''\n",
    "        for layer in self.layers:\n",
    "            x = layers(x)\n",
    "        return x"
   ]
  },
  {
   "cell_type": "markdown",
   "id": "440dc21d",
   "metadata": {},
   "source": [
    "## Optimización \n",
    "Algoritmo de optimización"
   ]
  },
  {
   "cell_type": "code",
   "execution_count": 7,
   "id": "8b37175d",
   "metadata": {},
   "outputs": [],
   "source": [
    "class SGD():\n",
    "    '''Stochastic gradient descent\n",
    "    '''\n",
    "    def __init__(self, net, lr):\n",
    "        self.net = net\n",
    "        self.lr\n",
    "        \n",
    "    def update(self):\n",
    "        for layer in self.net.layers:\n",
    "            layer.update([\n",
    "                params - self.lr * grads\n",
    "                for params, grads in zip(layer.params, layer.grads)\n",
    "            ])"
   ]
  },
  {
   "cell_type": "markdown",
   "id": "fde49082",
   "metadata": {},
   "source": [
    "## Funciones de Pérdida"
   ]
  },
  {
   "cell_type": "code",
   "execution_count": 8,
   "id": "84cecbfd",
   "metadata": {},
   "outputs": [],
   "source": [
    "class Loss():\n",
    "    def __init__(self, net):\n",
    "        self.net = net\n",
    "        \n",
    "    def backward(self):\n",
    "        '''Derivada de la loss function con respeto\n",
    "        a la salida del MLP'''\n",
    "        grad = self.grad_loss()\n",
    "        \n",
    "        # backpropagation\n",
    "        for layer in reversed(self.net.layers):\n",
    "            grad = layer.backward(grad)        "
   ]
  },
  {
   "cell_type": "code",
   "execution_count": 9,
   "id": "137cdb24",
   "metadata": {},
   "outputs": [],
   "source": [
    "class MSE(Loss):\n",
    "    '''Mean Square Error\n",
    "    '''\n",
    "    def __call__(self, output, target):\n",
    "        self.output, self.target = output, target.reshape(output.shape)\n",
    "        loss = np.mean((self.grad_loss()) ** 2)\n",
    "        return loss.mean()\n",
    "    \n",
    "    def grad_loss(self):\n",
    "        return self.output - self.target"
   ]
  },
  {
   "cell_type": "code",
   "execution_count": 10,
   "id": "db5bd7b5",
   "metadata": {},
   "outputs": [],
   "source": [
    "class BCE(Loss):\n",
    "    '''Binary Cross Entropy\n",
    "    '''\n",
    "    def __call__(self, output, target):\n",
    "        self.output, self.target = output, target.reshape(output.shape)\n",
    "        loss = -np.mean(self.target * np.log(self.output) - (1 - self.target) * np.log(1 - self.output))\n",
    "        return loss.mean()\n",
    "    \n",
    "    def grad_loss(self):\n",
    "        return self.output - self.target"
   ]
  },
  {
   "cell_type": "code",
   "execution_count": 12,
   "id": "052ea77e",
   "metadata": {},
   "outputs": [],
   "source": [
    "class CrossEntropy(Loss):\n",
    "    def __call__(self, output, target):\n",
    "        self.output, self.target = output, target\n",
    "        logits = output[np.arange(len(output)), target]\n",
    "        loss = -logits + np.log(np.sum(np.exp(output), axis=-1))\n",
    "        return loss.mean()\n",
    "    \n",
    "    def grad_loss(self):\n",
    "        answers = np.zeros_like(self.output)\n",
    "        answers[np.arange(len(self.output)), self.target] = 1\n",
    "        return (-answers + softmax(self.output)) / self.output.shape[0]"
   ]
  },
  {
   "cell_type": "code",
   "execution_count": null,
   "id": "cc40a99f",
   "metadata": {},
   "outputs": [],
   "source": []
  }
 ],
 "metadata": {
  "kernelspec": {
   "display_name": "MLP",
   "language": "python",
   "name": "mlp"
  },
  "language_info": {
   "codemirror_mode": {
    "name": "ipython",
    "version": 3
   },
   "file_extension": ".py",
   "mimetype": "text/x-python",
   "name": "python",
   "nbconvert_exporter": "python",
   "pygments_lexer": "ipython3",
   "version": "3.9.6"
  }
 },
 "nbformat": 4,
 "nbformat_minor": 5
}
