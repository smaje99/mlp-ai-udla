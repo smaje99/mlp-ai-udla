{
 "cells": [
  {
   "cell_type": "code",
   "execution_count": 1,
   "id": "a117ea32",
   "metadata": {},
   "outputs": [],
   "source": [
    "%matplotlib inline\n",
    "\n",
    "import numpy as np\n",
    "import matplotlib.pyplot as plt"
   ]
  },
  {
   "cell_type": "code",
   "execution_count": 2,
   "id": "ab90476d",
   "metadata": {},
   "outputs": [],
   "source": [
    "class Activation:\n",
    "    def activation(self, x):\n",
    "        pass\n",
    "    \n",
    "    def derivate(self, x):\n",
    "        pass"
   ]
  },
  {
   "cell_type": "code",
   "execution_count": 3,
   "id": "19b2cac2",
   "metadata": {},
   "outputs": [],
   "source": [
    "class Tanh(Activation):\n",
    "    def activation(self, x):\n",
    "        return np.tanh(x)\n",
    "    \n",
    "    def prime(self, x):\n",
    "        return 1 - np.tanh(x) ** 2 "
   ]
  },
  {
   "cell_type": "code",
   "execution_count": 4,
   "id": "bb820024",
   "metadata": {},
   "outputs": [],
   "source": [
    "class Sigmoide(Activation):\n",
    "    def activation(self, x):\n",
    "        return 1 / (1 + np.exp(-x))\n",
    "    \n",
    "    def prime(self, x):\n",
    "        sigmoide = self.activation(x)\n",
    "        return sigmoide * (1 - sigmoide)"
   ]
  },
  {
   "cell_type": "code",
   "execution_count": null,
   "id": "32b48eda",
   "metadata": {},
   "outputs": [],
   "source": [
    "class ReLu(Activation):\n",
    "    def activation(self, x):\n",
    "        return np.maximum(0, x)\n",
    "    \n",
    "    def prime(self, x):\n",
    "        return x > 0"
   ]
  },
  {
   "cell_type": "code",
   "execution_count": null,
   "id": "fceab014",
   "metadata": {},
   "outputs": [],
   "source": [
    "class MLP:\n",
    "    def __init__(self, activation):\n",
    "        self.activation = activation()\n",
    "    \n",
    "    def backpropagation(self):\n",
    "        pass"
   ]
  }
 ],
 "metadata": {
  "kernelspec": {
   "display_name": "MLP",
   "language": "python",
   "name": "mlp"
  },
  "language_info": {
   "codemirror_mode": {
    "name": "ipython",
    "version": 3
   },
   "file_extension": ".py",
   "mimetype": "text/x-python",
   "name": "python",
   "nbconvert_exporter": "python",
   "pygments_lexer": "ipython3",
   "version": "3.9.6"
  }
 },
 "nbformat": 4,
 "nbformat_minor": 5
}
